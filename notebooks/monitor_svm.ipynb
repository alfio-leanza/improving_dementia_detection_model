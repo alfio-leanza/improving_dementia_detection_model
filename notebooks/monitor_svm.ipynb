{
 "cells": [
  {
   "cell_type": "code",
   "execution_count": 1,
   "metadata": {},
   "outputs": [],
   "source": [
    "import numpy as np\n",
    "import os\n",
    "import pandas as pd\n",
    "from sklearn.svm import SVC\n",
    "from sklearn.model_selection import GridSearchCV, GroupShuffleSplit\n",
    "from sklearn.metrics import accuracy_score\n"
   ]
  },
  {
   "cell_type": "code",
   "execution_count": null,
   "metadata": {},
   "outputs": [],
   "source": [
    "cwt_folder = \"/Users/alfioleanza/progetto_tesi/dataset-eeg/test_svm\"\n",
    "\n",
    "df_labels = pd.read_csv('/Users/alfioleanza/progetto_tesi/dataset-eeg/inference_20250327_171717/true_pred.csv')\n",
    "df_labels[\"label\"] = (df_labels[\"true_label\"] == df_labels[\"pred_label\"]).astype(int)  # 1 = buono, 0 = cattivo"
   ]
  },
  {
   "cell_type": "code",
   "execution_count": null,
   "metadata": {},
   "outputs": [],
   "source": [
    "X = []\n",
    "y = []\n",
    "groups = [] "
   ]
  },
  {
   "cell_type": "code",
   "execution_count": null,
   "metadata": {},
   "outputs": [],
   "source": [
    "for file_name in os.listdir(cwt_folder):\n",
    "    if file_name.endswith(\".npy\") and file_name in df_labels[\"crop_file\"].values:\n",
    "        file_path = os.path.join(cwt_folder, file_name)\n",
    "        \n",
    "        cwt_linearized = np.load(file_path)\n",
    "        \n",
    "        X.append(cwt_linearized)\n",
    "        y.append(df_labels.loc[df_labels[\"crop_file\"] == file_name, \"label\"].values[0])\n",
    "        groups.append(df_labels.loc[df_labels[\"crop_file\"] == file_name, \"original_rec\"].values[0])"
   ]
  },
  {
   "cell_type": "code",
   "execution_count": null,
   "metadata": {},
   "outputs": [],
   "source": [
    "X = np.array(X)\n",
    "y = np.array(y)\n",
    "\n",
    "gss = GroupShuffleSplit(n_splits=1, test_size=0.2, random_state=42)  \n",
    "train_idx, test_idx = next(gss.split(X, y, groups=groups))\n",
    "\n",
    "X_train, X_test = X[train_idx], X[test_idx]\n",
    "y_train, y_test = y[train_idx], y[test_idx]"
   ]
  },
  {
   "cell_type": "code",
   "execution_count": null,
   "metadata": {},
   "outputs": [
    {
     "name": "stderr",
     "output_type": "stream",
     "text": [
      "Python(11903) MallocStackLogging: can't turn off malloc stack logging because it was not enabled.\n"
     ]
    },
    {
     "name": "stdout",
     "output_type": "stream",
     "text": [
      "Fitting 5 folds for each of 20 candidates, totalling 100 fits\n"
     ]
    },
    {
     "name": "stderr",
     "output_type": "stream",
     "text": [
      "Python(11904) MallocStackLogging: can't turn off malloc stack logging because it was not enabled.\n",
      "Python(11905) MallocStackLogging: can't turn off malloc stack logging because it was not enabled.\n",
      "Python(11906) MallocStackLogging: can't turn off malloc stack logging because it was not enabled.\n",
      "Python(11907) MallocStackLogging: can't turn off malloc stack logging because it was not enabled.\n",
      "Python(11908) MallocStackLogging: can't turn off malloc stack logging because it was not enabled.\n",
      "Python(11909) MallocStackLogging: can't turn off malloc stack logging because it was not enabled.\n",
      "Python(11910) MallocStackLogging: can't turn off malloc stack logging because it was not enabled.\n",
      "Python(11911) MallocStackLogging: can't turn off malloc stack logging because it was not enabled.\n",
      "Python(11912) MallocStackLogging: can't turn off malloc stack logging because it was not enabled.\n"
     ]
    },
    {
     "ename": "",
     "evalue": "",
     "output_type": "error",
     "traceback": [
      "\u001b[1;31mThe Kernel crashed while executing code in the current cell or a previous cell. \n",
      "\u001b[1;31mPlease review the code in the cell(s) to identify a possible cause of the failure. \n",
      "\u001b[1;31mClick <a href='https://aka.ms/vscodeJupyterKernelCrash'>here</a> for more info. \n",
      "\u001b[1;31mView Jupyter <a href='command:jupyter.viewOutput'>log</a> for further details."
     ]
    }
   ],
   "source": [
    "svm = SVC(kernel=\"rbf\")\n",
    "\n",
    "param_grid = {\n",
    "    \"C\": [0.1, 1, 10, 100],        \n",
    "    \"gamma\": [\"scale\", \"auto\", 0.01, 0.1, 1]  \n",
    "}\n",
    "\n",
    "grid_search = GridSearchCV(svm, param_grid, cv=5, scoring=\"accuracy\", n_jobs=-1, verbose=3)\n",
    "grid_search.fit(X_train, y_train)\n",
    "\n",
    "best_svm = grid_search.best_estimator_\n",
    "\n",
    "y_pred = best_svm.predict(X_test)\n",
    "accuracy = accuracy_score(y_test, y_pred)\n",
    "\n",
    "print(f\" Miglior SVM: {grid_search.best_params_}\")\n",
    "print(f\" Accuratezza sul Test Set: {accuracy:.4f}\")\n"
   ]
  }
 ],
 "metadata": {
  "kernelspec": {
   "display_name": "venv",
   "language": "python",
   "name": "python3"
  },
  "language_info": {
   "codemirror_mode": {
    "name": "ipython",
    "version": 3
   },
   "file_extension": ".py",
   "mimetype": "text/x-python",
   "name": "python",
   "nbconvert_exporter": "python",
   "pygments_lexer": "ipython3",
   "version": "3.9.6"
  }
 },
 "nbformat": 4,
 "nbformat_minor": 2
}
